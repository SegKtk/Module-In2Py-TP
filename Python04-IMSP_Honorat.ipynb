{
 "cells": [
  {
   "cell_type": "markdown",
   "id": "0ca930fc",
   "metadata": {},
   "source": [
    "### 1"
   ]
  },
  {
   "cell_type": "code",
   "execution_count": 19,
   "id": "f1ae874f",
   "metadata": {},
   "outputs": [
    {
     "name": "stdout",
     "output_type": "stream",
     "text": [
      "product cacao price = 1.25\n"
     ]
    }
   ],
   "source": [
    "products = {}\n",
    "def add_product(name,price,products):\n",
    "    products[name] = price\n",
    "    return products\n",
    "\n",
    "def change_price(name,price):\n",
    "    products[name] = price\n",
    "    #return products\n",
    "\n",
    "def get_price(name,products):\n",
    "    print(\"product\",name,\"price = {}\".format(products[name]))\n",
    "\n",
    "    \n",
    "products = add_product(\"cacao\",1.25,products)\n",
    "get_price('cacao',products)"
   ]
  },
  {
   "cell_type": "markdown",
   "id": "ae78d812",
   "metadata": {},
   "source": [
    "### 2"
   ]
  },
  {
   "cell_type": "code",
   "execution_count": 52,
   "id": "1fe26681",
   "metadata": {},
   "outputs": [],
   "source": [
    "contacts = {'ktk':'61651717', 'rom':'51248796'}\n",
    "def add_tel(name,tel,contacts):\n",
    "    contacts[name] = tel\n",
    "    return contacts\n",
    "\n",
    "def search_tel(name,contacts):\n",
    "    if contacts.get(name):\n",
    "        print(name,\"--->\",contacts.get(name))\n",
    "    else:\n",
    "        print(\"Contact inexistant\")\n",
    "            \n",
    "def search_name(tel, contacts): \n",
    "    for k, val in contacts.items(): \n",
    "        if tel == val: \n",
    "            return k \n",
    "    return \"Clé n'existe pas\" \n",
    "\n",
    "def list_contacts(contacts):\n",
    "    return print(contacts.items())\n"
   ]
  },
  {
   "cell_type": "markdown",
   "id": "decac365",
   "metadata": {},
   "source": [
    "###  3"
   ]
  },
  {
   "cell_type": "code",
   "execution_count": 55,
   "id": "038c8260",
   "metadata": {},
   "outputs": [
    {
     "data": {
      "text/plain": [
       "[3, 5, 8]"
      ]
     },
     "execution_count": 55,
     "metadata": {},
     "output_type": "execute_result"
    }
   ],
   "source": [
    "List_word = [\"ktk\", \"lompo\", \"victoire\"]\n",
    "List_integer =[]\n",
    "\n",
    "for i in List_word:\n",
    "    List_integer.append(len(i))\n",
    "\n",
    "List_integer"
   ]
  },
  {
   "cell_type": "markdown",
   "id": "8752a164",
   "metadata": {},
   "source": [
    "### 4"
   ]
  },
  {
   "cell_type": "code",
   "execution_count": 58,
   "id": "71a4823c",
   "metadata": {},
   "outputs": [],
   "source": [
    "def find_longest_word(List_word):\n",
    "    max = 0\n",
    "    for i in List_word:\n",
    "        if len(i) > max:\n",
    "            max = len(i)\n",
    "    return max\n"
   ]
  },
  {
   "cell_type": "markdown",
   "id": "6ec4b4ae",
   "metadata": {},
   "source": [
    "### 5"
   ]
  },
  {
   "cell_type": "code",
   "execution_count": 91,
   "id": "e95ba690",
   "metadata": {},
   "outputs": [
    {
     "name": "stdout",
     "output_type": "stream",
     "text": [
      "['merry', 'christmas', 'and', 'happy', 'new', 'year']\n"
     ]
    },
    {
     "data": {
      "text/plain": [
       "['god', 'jul', 'och', 'gott', 'nytt', 'ar']"
      ]
     },
     "execution_count": 91,
     "metadata": {},
     "output_type": "execute_result"
    }
   ],
   "source": [
    "dictt = {\"merry\":\"god\", \"christmas\":\"jul\", \"and\":\"och\", \"happy\":\"gott\", \"new\":\"nytt\", \"year\":\"ar\"}\n",
    "\n",
    "cards = [\"merry\", \"christmas\", \"and\", \"happy\", \"new\", \"year\"]\n",
    "print(cards)\n",
    "def translate(cards, dictt):\n",
    "    result=[]\n",
    "    for i in range(len(cards)):\n",
    "        for k in dictt.keys():\n",
    "            if cards[i] == k:\n",
    "                result.append(dictt[k])\n",
    "    return result\n",
    "    \n",
    "translate(cards, dictt)\n",
    "    "
   ]
  },
  {
   "cell_type": "markdown",
   "id": "66d948a2",
   "metadata": {},
   "source": [
    "### 6"
   ]
  },
  {
   "cell_type": "code",
   "execution_count": 104,
   "id": "a738eb8a",
   "metadata": {},
   "outputs": [],
   "source": [
    "the_list = [12, 15.1, \"ktk\", ['a','b']]\n",
    "\n",
    "def is_member(x,the_list):\n",
    "    if the_list.count(x):\n",
    "        return True\n",
    "    else:\n",
    "        return False\n",
    "\n"
   ]
  },
  {
   "cell_type": "markdown",
   "id": "0e6d80a5",
   "metadata": {},
   "source": [
    "### 7"
   ]
  },
  {
   "cell_type": "code",
   "execution_count": 152,
   "id": "a73a5041",
   "metadata": {},
   "outputs": [
    {
     "name": "stdout",
     "output_type": "stream",
     "text": [
      "****\n",
      "*********\n",
      "*******\n"
     ]
    }
   ],
   "source": [
    "tab = [4,9,7]\n",
    "def histogram(tab):\n",
    "    for i in tab:\n",
    "        print(\"*\" * i)\n",
    "        \n",
    "histogram(tab)"
   ]
  },
  {
   "cell_type": "markdown",
   "id": "fbb5e565",
   "metadata": {},
   "source": [
    "### 8"
   ]
  },
  {
   "cell_type": "code",
   "execution_count": 163,
   "id": "d0983d73",
   "metadata": {},
   "outputs": [
    {
     "name": "stdout",
     "output_type": "stream",
     "text": [
      "*****************\n",
      "Students : Amour\n",
      "homework : [90.0, 97.0, 75.0, 92.0]\n",
      "quizzes : [88.0, 40.0, 94.0]\n",
      "tests : [75.0, 90.0]\n",
      "*****************\n",
      "Students : Paix\n",
      "homework : [100.0, 92.0, 98.0, 100.0]\n",
      "quizzes : [82.0, 83.0, 91.0]\n",
      "tests : [89.0, 97.0]\n",
      "*****************\n",
      "Students : Foi\n",
      "homework : [0.0, 87.0, 75.0, 22.0]\n",
      "quizzes : [0.0, 75.0, 78.0]\n",
      "tests : [100.0, 100.0]\n"
     ]
    },
    {
     "data": {
      "text/plain": [
       "'B'"
      ]
     },
     "execution_count": 163,
     "metadata": {},
     "output_type": "execute_result"
    }
   ],
   "source": [
    "Amour = {\n",
    "\"name\": \"Amour\",\n",
    "\"homework\": [90.0,97.0,75.0,92.0],\n",
    "\"quizzes\": [88.0,40.0,94.0],\n",
    "\"tests\": [75.0,90.0]\n",
    "}\n",
    "Paix = {\n",
    "\"name\": \"Paix\",\n",
    "\"homework\": [100.0, 92.0, 98.0, 100.0],\n",
    "\"quizzes\": [82.0, 83.0, 91.0],\n",
    "\"tests\": [89.0, 97.0]\n",
    "}\n",
    "Foi = {\n",
    "\"name\": \"Foi\",\n",
    "\"homework\": [0.0, 87.0, 75.0, 22.0],\n",
    "\"quizzes\": [0.0, 75.0, 78.0],\n",
    "\"tests\": [100.0, 100.0]\n",
    "}\n",
    "\n",
    "students = [Amour, Paix, Foi]\n",
    "\n",
    "#----------Print out student's data\n",
    "\n",
    "for i in students:\n",
    "    for k,val in i.items():\n",
    "        if type(i[k]) is str:\n",
    "            print(\"*****************\")\n",
    "            print('Students :',val)\n",
    "        else:\n",
    "            print(k,\":\",val)\n",
    "            \n",
    "        \n",
    "#-------------function average\n",
    "def average(numbers):\n",
    "    total = sum(numbers)\n",
    "    result = total / len(numbers)\n",
    "    return result\n",
    "\n",
    "def get_average(student):\n",
    "    avg_hwk = average(student[\"homework\"])\n",
    "    avg_quiz = average(student[\"quizzes\"])\n",
    "    avg_test = average(student[\"tests\"])\n",
    "    \n",
    "    a1 = (avg_hwk*10)/100\n",
    "    a2 = (avg_quiz*30)/100\n",
    "    a3 = (avg_test *60)/100\n",
    "    \n",
    "    return a1 +a2 +a3\n",
    "\n",
    "def get_letter_grade(score):\n",
    "    if score >= 90:\n",
    "        return \"A\"\n",
    "    elif score >= 80:\n",
    "        return \"B\"\n",
    "    elif score >= 70:\n",
    "        return \"C\"\n",
    "    elif score >= 60:\n",
    "        return \"D\"\n",
    "    else:\n",
    "        return \"F\"\n",
    "    \n",
    "    \n",
    "get_letter_grade(get_average(Amour))\n"
   ]
  }
 ],
 "metadata": {
  "kernelspec": {
   "display_name": "Python 3",
   "language": "python",
   "name": "python3"
  },
  "language_info": {
   "codemirror_mode": {
    "name": "ipython",
    "version": 3
   },
   "file_extension": ".py",
   "mimetype": "text/x-python",
   "name": "python",
   "nbconvert_exporter": "python",
   "pygments_lexer": "ipython3",
   "version": "3.8.8"
  }
 },
 "nbformat": 4,
 "nbformat_minor": 5
}
