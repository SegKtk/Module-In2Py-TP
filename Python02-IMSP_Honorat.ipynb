{
 "cells": [
  {
   "cell_type": "markdown",
   "id": "9eead7eb",
   "metadata": {},
   "source": [
    "1)"
   ]
  },
  {
   "cell_type": "code",
   "execution_count": null,
   "id": "b06d90a8",
   "metadata": {},
   "outputs": [],
   "source": [
    "import math\n",
    "x = float(input(\"values of x :\"))\n",
    "y = float(input(\"values of y :\"))\n",
    "\n",
    "expression = math.sqrt(math.pow(x,2+y)) / ((1/x) + 2*math.sin(y))\n",
    "print(expression)"
   ]
  },
  {
   "cell_type": "markdown",
   "id": "a6d4403f",
   "metadata": {},
   "source": [
    "2."
   ]
  },
  {
   "cell_type": "code",
   "execution_count": 11,
   "id": "89b1ff8a",
   "metadata": {},
   "outputs": [],
   "source": [
    "def function(b,n):\n",
    "    result = b**n"
   ]
  },
  {
   "cell_type": "markdown",
   "id": "c6e98c84",
   "metadata": {},
   "source": [
    "3."
   ]
  },
  {
   "cell_type": "code",
   "execution_count": 6,
   "id": "763a774d",
   "metadata": {},
   "outputs": [
    {
     "name": "stdout",
     "output_type": "stream",
     "text": [
      "(6.283185307179586, 3.141592653589793)\n"
     ]
    }
   ],
   "source": [
    "import math\n",
    "#-----------a\n",
    "def arithmetic_mean(a,b):\n",
    "    return a+b / 2\n",
    "\n",
    "def geometric_mean(a,b):\n",
    "    return math.sqrt(a*b)\n",
    "\n",
    "\n",
    "#-----------b\n",
    "def celcius_to_fahrenheit(val):\n",
    "    return val*1.8 +32\n",
    "\n",
    "def fahrenheit_to_celcius(val):\n",
    "    return (val-32)/1.8\n",
    "\n",
    "#-----------c\n",
    "def degrees_to_radians(val):\n",
    "    return math.radians(val)\n",
    "\n",
    "def radians_to_degrees(val):\n",
    "    return math.degrees(val)  \n",
    "\n",
    "#-----------d\n",
    "def cir_and_area(radius):\n",
    "    cir = 2 * math.pi * radius\n",
    "    area = math.pi * math.pow(radius,2)\n",
    "    return cir,area\n",
    "\n",
    "print(cir_and_area(1))"
   ]
  },
  {
   "cell_type": "markdown",
   "id": "52b5a043",
   "metadata": {},
   "source": [
    "4."
   ]
  },
  {
   "cell_type": "code",
   "execution_count": 18,
   "id": "1602c7bc",
   "metadata": {},
   "outputs": [
    {
     "name": "stdout",
     "output_type": "stream",
     "text": [
      "(4.35722912245339, 12.62380981136003)\n"
     ]
    }
   ],
   "source": [
    "#---------------------a\n",
    "def avggeo():\n",
    "    for i in range(10):\n",
    "        a = float(input('values of a :'))\n",
    "        b = float(input('values of b :'))\n",
    "        avg = (a+b) / 2\n",
    "        geo = math.sqrt(a*b) \n",
    "        print('average mean = ', avg)\n",
    "        print('geometrical mean = ', geo) \n",
    "    \n",
    "#---------------------b\n",
    "pointA=[1,3]\n",
    "pointB=[2,4]\n",
    "pointC=[0.5, -2]\n",
    "\n",
    "def distancefn(p1,p2):\n",
    "    return math.sqrt(math.pow(p2[1]-p1[1],2)+math.pow(p2[0]-p1[0],2))\n",
    "\n",
    "#calcul du perimetre et de l'aire a partir de la fonction precedente\n",
    "def are_per(p1, p2, p3):\n",
    "    cote1 = distancefn(p1,p2)\n",
    "    cote2 = distancefn(p2,p3)\n",
    "    cote3 = distancefn(p1,p3)\n",
    "    \n",
    "    demi_p = (cote1 + cote2 + cote3) / 3\n",
    "    \n",
    "    area =  (demi_p*(demi_p-cote1)*(demi_p-cote2)*(demi_p-cote3)) ** 0.5 \n",
    "    perim = cote1 + cote2 + cote3\n",
    "    \n",
    "    return area, perim\n",
    "\n",
    "print(are_per(pointA, pointB, pointC))"
   ]
  },
  {
   "cell_type": "markdown",
   "id": "c74787d8",
   "metadata": {},
   "source": [
    "5."
   ]
  },
  {
   "cell_type": "code",
   "execution_count": 26,
   "id": "e3045ded",
   "metadata": {},
   "outputs": [],
   "source": [
    "def factorial(n):\n",
    "    if(n == 0):\n",
    "        return 1\n",
    "    else:\n",
    "        return n*factorial(n-1)\n",
    "    \n",
    "#def fact2nddeg():\n",
    "    "
   ]
  },
  {
   "cell_type": "markdown",
   "id": "8481ae72",
   "metadata": {},
   "source": [
    "6."
   ]
  },
  {
   "cell_type": "code",
   "execution_count": 22,
   "id": "3d7310a1",
   "metadata": {},
   "outputs": [],
   "source": [
    "def power(x,n):\n",
    "    if n == 0:\n",
    "        return 1\n",
    "    else:\n",
    "        return x*power(x,n-1)\n",
    "    "
   ]
  },
  {
   "cell_type": "markdown",
   "id": "5eb42b5e",
   "metadata": {},
   "source": [
    "7."
   ]
  },
  {
   "cell_type": "code",
   "execution_count": 2,
   "id": "9da1badf",
   "metadata": {},
   "outputs": [],
   "source": [
    "def recur_fibo(n):\n",
    "   if n <= 1:\n",
    "       return n\n",
    "   else:\n",
    "       return(recur_fibo(n-1) + recur_fibo(n-2))\n"
   ]
  }
 ],
 "metadata": {
  "kernelspec": {
   "display_name": "Python 3",
   "language": "python",
   "name": "python3"
  },
  "language_info": {
   "codemirror_mode": {
    "name": "ipython",
    "version": 3
   },
   "file_extension": ".py",
   "mimetype": "text/x-python",
   "name": "python",
   "nbconvert_exporter": "python",
   "pygments_lexer": "ipython3",
   "version": "3.8.5"
  }
 },
 "nbformat": 4,
 "nbformat_minor": 5
}
