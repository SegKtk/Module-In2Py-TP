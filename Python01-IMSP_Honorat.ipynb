{
 "cells": [
  {
   "cell_type": "markdown",
   "id": "8a1b2419",
   "metadata": {},
   "source": [
    "### 1. SUMMATIONS AND PRODUCT"
   ]
  },
  {
   "cell_type": "markdown",
   "id": "cf145d30",
   "metadata": {},
   "source": [
    "1- I compute the foolowing expressions"
   ]
  },
  {
   "cell_type": "markdown",
   "id": "27d71e2f",
   "metadata": {},
   "source": [
    "(i)"
   ]
  },
  {
   "cell_type": "code",
   "execution_count": 48,
   "id": "2b550a06",
   "metadata": {},
   "outputs": [
    {
     "name": "stdout",
     "output_type": "stream",
     "text": [
      "40\n"
     ]
    }
   ],
   "source": [
    "n = 10\n",
    "somme = 0\n",
    "for i in range(n):\n",
    "    if i%2 != 0:\n",
    "        somme += i+3\n",
    "print(somme)"
   ]
  },
  {
   "cell_type": "code",
   "execution_count": 49,
   "id": "c7d05116",
   "metadata": {},
   "outputs": [
    {
     "name": "stdout",
     "output_type": "stream",
     "text": [
      "1\n",
      "3\n"
     ]
    }
   ],
   "source": [
    "for i in range(5):\n",
    "    if i%2:\n",
    "        print(i)\n",
    "    \n",
    "    \n"
   ]
  },
  {
   "cell_type": "markdown",
   "id": "d632f528",
   "metadata": {},
   "source": [
    "(ii)"
   ]
  },
  {
   "cell_type": "code",
   "execution_count": 55,
   "id": "e8a3e0ae",
   "metadata": {},
   "outputs": [
    {
     "name": "stdout",
     "output_type": "stream",
     "text": [
      "10395\n"
     ]
    }
   ],
   "source": [
    "n = 10\n",
    "produit = 1\n",
    "for i in range(n):\n",
    "    if i%2 == 0 :\n",
    "        produit *= (i+3) \n",
    "print(produit)"
   ]
  },
  {
   "cell_type": "markdown",
   "id": "8afdafa7",
   "metadata": {},
   "source": [
    "2 - Day of the week"
   ]
  },
  {
   "cell_type": "code",
   "execution_count": 38,
   "id": "dd0b243d",
   "metadata": {},
   "outputs": [
    {
     "name": "stdout",
     "output_type": "stream",
     "text": [
      "Monday\n",
      "Tuesday\n",
      "Wednesday\n",
      "Thursday\n",
      "Friday\n",
      "Weekend\n",
      "Weekend\n"
     ]
    }
   ],
   "source": [
    "day = ['Monday', 'Tuesday', 'Wednesday', 'Thursday', 'Friday']\n",
    "for number in range(7):\n",
    "    if number > 4:\n",
    "        print('Weekend')\n",
    "    else:\n",
    "        print(day[number])\n",
    "    \n"
   ]
  },
  {
   "cell_type": "markdown",
   "id": "e5abd7cb",
   "metadata": {},
   "source": [
    "3 - How many days in the month : "
   ]
  },
  {
   "cell_type": "code",
   "execution_count": null,
   "id": "22ba5d4b",
   "metadata": {},
   "outputs": [],
   "source": [
    "nday_by_month = [31,28,31,30,31,30,31,31,30,31,30,31]\n",
    "for i in range(12):\n",
    "    print('The month {}' ' has {} days'.format(i,nday_by_month[i]))\n",
    "    "
   ]
  },
  {
   "cell_type": "markdown",
   "id": "a2946e43",
   "metadata": {},
   "source": [
    "4- Two ways to display my name 3 times:"
   ]
  },
  {
   "cell_type": "code",
   "execution_count": 1,
   "id": "39d9e7ba",
   "metadata": {},
   "outputs": [
    {
     "name": "stdout",
     "output_type": "stream",
     "text": [
      "Honorat\n",
      "Honorat\n",
      "Honorat\n"
     ]
    }
   ],
   "source": [
    "name = 'Honorat'\n",
    "i = 0\n",
    "while i < 3:\n",
    "    print(name)\n",
    "    i = i+1"
   ]
  },
  {
   "cell_type": "code",
   "execution_count": 2,
   "id": "ed196d53",
   "metadata": {},
   "outputs": [
    {
     "name": "stdout",
     "output_type": "stream",
     "text": [
      "Honorat\n",
      "Honorat\n",
      "Honorat\n"
     ]
    }
   ],
   "source": [
    "for i in range(3):\n",
    "    print(name)"
   ]
  },
  {
   "cell_type": "markdown",
   "id": "8f43213c",
   "metadata": {},
   "source": [
    "5- Finonacci"
   ]
  },
  {
   "cell_type": "code",
   "execution_count": 11,
   "id": "328fd2ae",
   "metadata": {},
   "outputs": [
    {
     "name": "stdout",
     "output_type": "stream",
     "text": [
      "a0 = 0\n",
      "a1 = 1\n",
      "1\n",
      "Fibonacci (a0) = 0\n",
      "Fibonacci (a1) = 1\n",
      "Fibonacci (a2) = 1\n",
      "Fibonacci (a3) = 2\n",
      "Fibonacci (a4) = 3\n",
      "Fibonacci (a5) = 5\n",
      "Fibonacci (a6) = 8\n",
      "Fibonacci (a7) = 13\n",
      "Fibonacci (a8) = 21\n",
      "Fibonacci (a9) = 34\n",
      "Fibonacci (a10) = 55\n",
      "Fibonacci (a11) = 89\n",
      "Fibonacci (a12) = 144\n",
      "Fibonacci (a13) = 233\n",
      "Fibonacci (a14) = 377\n"
     ]
    }
   ],
   "source": [
    "a0 = int(input('a0 = '))\n",
    "a1 = int(input('a1 = '))\n",
    "n = 15\n",
    "fibo = {0:a0, 1:a1}\n",
    "\n",
    "for i in range (2,n):\n",
    "    fibo[i] = fibo[i-1] + fibo[i-2]\n",
    "    \n",
    "print(fibo[2])    \n",
    "for i in range(n):\n",
    "    print('Fibonacci (a{}) = {}'.format(i,fibo[i]))\n",
    "        "
   ]
  },
  {
   "cell_type": "markdown",
   "id": "bc3450a7",
   "metadata": {},
   "source": [
    "6- first 30 terms of the sequence :"
   ]
  },
  {
   "cell_type": "code",
   "execution_count": 15,
   "id": "62b6a006",
   "metadata": {},
   "outputs": [
    {
     "name": "stdout",
     "output_type": "stream",
     "text": [
      "x0 = 1\n",
      "x1 = 3\n",
      "x2 = 2.5\n",
      "x3 = 4.25\n",
      "x4 = 4.625\n",
      "x5 = 6.5625\n",
      "x6 = 7.90625\n",
      "x7 = 10.515625\n",
      "x8 = 13.1640625\n",
      "x9 = 17.09765625\n",
      "x10 = 21.712890625\n",
      "x11 = 27.9541015625\n",
      "x12 = 35.68994140625\n",
      "x13 = 45.799072265625\n",
      "x14 = 58.5894775390625\n",
      "x15 = 75.09381103515625\n",
      "x16 = 96.13638305664062\n",
      "x17 = 123.16200256347656\n",
      "x18 = 157.7173843383789\n",
      "x19 = 202.02069473266602\n",
      "x20 = 258.7277317047119\n",
      "x21 = 331.384560585022\n",
      "x22 = 424.4200119972229\n",
      "x23 = 543.5945665836334\n",
      "x24 = 696.2172952890396\n",
      "x25 = 891.7032142281532\n",
      "x26 = 1142.0689024031162\n",
      "x27 = 1462.7376654297113\n",
      "x28 = 1873.437735117972\n",
      "x29 = 2399.4565329886973\n"
     ]
    }
   ],
   "source": [
    "x0,x1 = 1,3\n",
    "seq = {0:x0, 1:x1}\n",
    "\n",
    "for i in range(2,30):\n",
    "    seq[i] = seq[i-1]/2 + seq[i-2]\n",
    "    \n",
    "for i in range(30):\n",
    "    print('x{} = {}'.format(i,seq[i]))\n"
   ]
  },
  {
   "cell_type": "markdown",
   "id": "3c55e8a3",
   "metadata": {},
   "source": [
    "7-a) leap year"
   ]
  },
  {
   "cell_type": "code",
   "execution_count": null,
   "id": "963204e9",
   "metadata": {},
   "outputs": [],
   "source": [
    "year = 2002;\n",
    "if(year%4 == 0):\n",
    "    print(ok)\n",
    "elif\n",
    "    print(year,' is not leap years')"
   ]
  }
 ],
 "metadata": {
  "kernelspec": {
   "display_name": "Python 3",
   "language": "python",
   "name": "python3"
  },
  "language_info": {
   "codemirror_mode": {
    "name": "ipython",
    "version": 3
   },
   "file_extension": ".py",
   "mimetype": "text/x-python",
   "name": "python",
   "nbconvert_exporter": "python",
   "pygments_lexer": "ipython3",
   "version": "3.8.5"
  }
 },
 "nbformat": 4,
 "nbformat_minor": 5
}
