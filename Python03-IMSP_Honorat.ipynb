{
 "cells": [
  {
   "cell_type": "markdown",
   "id": "808aa6a6",
   "metadata": {},
   "source": [
    "## a"
   ]
  },
  {
   "cell_type": "code",
   "execution_count": 22,
   "id": "2772bca1",
   "metadata": {},
   "outputs": [
    {
     "data": {
      "text/plain": [
       "'abcdfx'"
      ]
     },
     "execution_count": 22,
     "metadata": {},
     "output_type": "execute_result"
    }
   ],
   "source": [
    "def M(c1, c2=''):\n",
    "    return ''.join(sorted(c1+c2))\n",
    "\n",
    "M(\"bd\",\"faxc\")\n"
   ]
  },
  {
   "cell_type": "markdown",
   "id": "4df74223",
   "metadata": {},
   "source": [
    "## b"
   ]
  },
  {
   "cell_type": "code",
   "execution_count": 20,
   "id": "8c9868e4",
   "metadata": {},
   "outputs": [
    {
     "data": {
      "text/plain": [
       "'abbccddd'"
      ]
     },
     "execution_count": 20,
     "metadata": {},
     "output_type": "execute_result"
    }
   ],
   "source": [
    "M('bdd','abccd')"
   ]
  },
  {
   "cell_type": "markdown",
   "id": "a68b78f7",
   "metadata": {},
   "source": [
    "## c"
   ]
  },
  {
   "cell_type": "code",
   "execution_count": 21,
   "id": "d43a0007",
   "metadata": {},
   "outputs": [
    {
     "data": {
      "text/plain": [
       "'abcddf'"
      ]
     },
     "execution_count": 21,
     "metadata": {},
     "output_type": "execute_result"
    }
   ],
   "source": [
    "#***** S = M sans second parametre\n",
    "M('dcfabd')"
   ]
  },
  {
   "cell_type": "markdown",
   "id": "d54c7d99",
   "metadata": {},
   "source": [
    "## d "
   ]
  },
  {
   "cell_type": "code",
   "execution_count": null,
   "id": "51d865dd",
   "metadata": {},
   "outputs": [],
   "source": []
  },
  {
   "cell_type": "markdown",
   "id": "6cf985f8",
   "metadata": {},
   "source": [
    "## e"
   ]
  },
  {
   "cell_type": "code",
   "execution_count": 115,
   "id": "673dd28c",
   "metadata": {},
   "outputs": [
    {
     "name": "stdout",
     "output_type": "stream",
     "text": [
      "Your sentence :je suis jeune jeune homme\n",
      "Your word :je\n",
      "3\n"
     ]
    }
   ],
   "source": [
    "ch = \"je suis un homme\"\n",
    "\n",
    "#-----------(i)\n",
    "def i(ch):\n",
    "    for i in ch:\n",
    "        if i.lower() in \"aeiouy\":\n",
    "            print(i)\n",
    "            break\n",
    "        \n",
    "#-----------(ii)\n",
    "def isVowel(c):\n",
    "    if c.lower() in 'aeiouy':\n",
    "        return 1\n",
    "    else:\n",
    "        return 0\n",
    "    \n",
    "def ii(ch):\n",
    "    cpt = 0\n",
    "    for i in ch:\n",
    "        if isVowel(i):\n",
    "            cpt+=1\n",
    "    return cpt\n",
    "\n",
    "#------------(iii)\n",
    "def iii():\n",
    "    l = input('Tapez une lettre (un chiffre pour quitter) :')\n",
    "    while(len(l) > 1):\n",
    "        l = input('Tapez une lettre (un chiffre pour quitter) :')\n",
    "        \n",
    "    while(not l.isnumeric()):\n",
    "        print(l,'--->',l.upper())\n",
    "        l = input('Votre lettre (un chiffre pour quitter) :')\n",
    "        \n",
    "        while(l.isnumeric() and len(l) > 1):\n",
    "            l = input('tapez un seul chiffre pour quitter :')\n",
    "        if l.isnumeric():\n",
    "            break\n",
    "\n",
    "#------------(iv)\n",
    "def iv():\n",
    "    sentence = input(\"Your sentence :\")\n",
    "    \n",
    "    while(sentence != sentence.upper()):\n",
    "        sentence = input(\"Must be in upper case. Try again :\")\n",
    "    \n",
    "    cpt = 0\n",
    "    for i in \"AEIOUY\":\n",
    "        for k in sentence:\n",
    "            if i is k:\n",
    "                cpt+=1\n",
    "        print(i,' --> ',cpt)\n",
    "        cpt = 0\n",
    "        \n",
    "\n",
    "#-------------(v)\n",
    "def v():\n",
    "    sentence = input(\"Your sentence :\")\n",
    "    print('c -->',sentence.count('c'),'and b -->',sentence.count('b'))\n",
    "\n",
    "#-------------(vi)\n",
    "def vi():\n",
    "    sentence = input(\"Your sentence :\")\n",
    "    s = sentence.title()\n",
    "\n",
    "#-------------(vii)\n",
    "def vii():\n",
    "    sentence = input(\"Your sentence :\")\n",
    "    s = sentence[::-1]\n",
    "    if s == sentence:\n",
    "        print(\"C'est un palindrome\")\n",
    "    else:\n",
    "        print(\"Ce n'est pas un palindrome\")\n",
    "\n",
    "#-------------viii()\n",
    "def viii():\n",
    "    sentence = input(\"Your sentence :\")\n",
    "    word = input(\"Your word :\")\n",
    "    print(sentence.count(word))\n",
    "    \n"
   ]
  },
  {
   "cell_type": "markdown",
   "id": "da9c4583",
   "metadata": {},
   "source": [
    "## f"
   ]
  },
  {
   "cell_type": "code",
   "execution_count": 131,
   "id": "45039edf",
   "metadata": {},
   "outputs": [
    {
     "name": "stdout",
     "output_type": "stream",
     "text": [
      "The lowest possible score is 1, and the highest possible score is 10\n",
      "1\n",
      "2\n",
      "3\n",
      "4\n",
      "5\n",
      "6\n",
      "7\n",
      "8\n",
      "9\n",
      "10\n"
     ]
    }
   ],
   "source": [
    "score = (1,2,3,4,5,6,7,8,9,10)\n",
    "\n",
    "print(\"The lowest possible score is {}, and the highest possible score is {}\".format(min(score),max(score)))\n",
    "\n",
    "for i in score:\n",
    "    print(i)"
   ]
  }
 ],
 "metadata": {
  "kernelspec": {
   "display_name": "Python 3",
   "language": "python",
   "name": "python3"
  },
  "language_info": {
   "codemirror_mode": {
    "name": "ipython",
    "version": 3
   },
   "file_extension": ".py",
   "mimetype": "text/x-python",
   "name": "python",
   "nbconvert_exporter": "python",
   "pygments_lexer": "ipython3",
   "version": "3.8.5"
  }
 },
 "nbformat": 4,
 "nbformat_minor": 5
}
